{
  "nbformat": 4,
  "nbformat_minor": 0,
  "metadata": {
    "colab": {
      "name": "Car Evaluation",
      "provenance": [],
      "collapsed_sections": [],
      "authorship_tag": "ABX9TyPk1Uz1EDBa0pdQSav+Weai",
      "include_colab_link": true
    },
    "kernelspec": {
      "name": "python3",
      "display_name": "Python 3"
    },
    "language_info": {
      "name": "python"
    }
  },
  "cells": [
    {
      "cell_type": "markdown",
      "metadata": {
        "id": "view-in-github",
        "colab_type": "text"
      },
      "source": [
        "<a href=\"https://colab.research.google.com/github/Alexeanred/Car-Evaluation-Web-App/blob/main/Car_Evaluation.ipynb\" target=\"_parent\"><img src=\"https://colab.research.google.com/assets/colab-badge.svg\" alt=\"Open In Colab\"/></a>"
      ]
    },
    {
      "cell_type": "code",
      "source": [
        "import numpy as np\n",
        "import pandas as pd\n",
        "import matplotlib.pyplot as plt\n",
        "from sklearn.model_selection import train_test_split\n",
        "from sklearn.linear_model import LogisticRegression\n",
        "from sklearn.tree import DecisionTreeClassifier\n",
        "from sklearn.ensemble import RandomForestClassifier\n",
        "from sklearn.metrics import recall_score, precision_score, accuracy_score, plot_confusion_matrix, classification_report, f1_score"
      ],
      "metadata": {
        "id": "4UcuZ4rjPo_1"
      },
      "execution_count": null,
      "outputs": []
    },
    {
      "cell_type": "code",
      "source": [
        "url = '/content/car_evaluation.csv'\n",
        "df = pd.read_csv(url)\n",
        "df.head()"
      ],
      "metadata": {
        "colab": {
          "base_uri": "https://localhost:8080/",
          "height": 206
        },
        "id": "80aC61O-rSBG",
        "outputId": "25670b0d-9878-404b-fb14-6e61bd2224a4"
      },
      "execution_count": null,
      "outputs": [
        {
          "output_type": "execute_result",
          "data": {
            "text/html": [
              "\n",
              "  <div id=\"df-216bce0d-5bca-4d02-a22e-36e2bb29ce2a\">\n",
              "    <div class=\"colab-df-container\">\n",
              "      <div>\n",
              "<style scoped>\n",
              "    .dataframe tbody tr th:only-of-type {\n",
              "        vertical-align: middle;\n",
              "    }\n",
              "\n",
              "    .dataframe tbody tr th {\n",
              "        vertical-align: top;\n",
              "    }\n",
              "\n",
              "    .dataframe thead th {\n",
              "        text-align: right;\n",
              "    }\n",
              "</style>\n",
              "<table border=\"1\" class=\"dataframe\">\n",
              "  <thead>\n",
              "    <tr style=\"text-align: right;\">\n",
              "      <th></th>\n",
              "      <th>buying</th>\n",
              "      <th>maintance</th>\n",
              "      <th>doors</th>\n",
              "      <th>persons</th>\n",
              "      <th>lug_boot</th>\n",
              "      <th>safety</th>\n",
              "      <th>class</th>\n",
              "    </tr>\n",
              "  </thead>\n",
              "  <tbody>\n",
              "    <tr>\n",
              "      <th>0</th>\n",
              "      <td>vhigh</td>\n",
              "      <td>vhigh</td>\n",
              "      <td>2</td>\n",
              "      <td>2</td>\n",
              "      <td>small</td>\n",
              "      <td>low</td>\n",
              "      <td>unacc</td>\n",
              "    </tr>\n",
              "    <tr>\n",
              "      <th>1</th>\n",
              "      <td>vhigh</td>\n",
              "      <td>vhigh</td>\n",
              "      <td>2</td>\n",
              "      <td>2</td>\n",
              "      <td>small</td>\n",
              "      <td>med</td>\n",
              "      <td>unacc</td>\n",
              "    </tr>\n",
              "    <tr>\n",
              "      <th>2</th>\n",
              "      <td>vhigh</td>\n",
              "      <td>vhigh</td>\n",
              "      <td>2</td>\n",
              "      <td>2</td>\n",
              "      <td>small</td>\n",
              "      <td>high</td>\n",
              "      <td>unacc</td>\n",
              "    </tr>\n",
              "    <tr>\n",
              "      <th>3</th>\n",
              "      <td>vhigh</td>\n",
              "      <td>vhigh</td>\n",
              "      <td>2</td>\n",
              "      <td>2</td>\n",
              "      <td>med</td>\n",
              "      <td>low</td>\n",
              "      <td>unacc</td>\n",
              "    </tr>\n",
              "    <tr>\n",
              "      <th>4</th>\n",
              "      <td>vhigh</td>\n",
              "      <td>vhigh</td>\n",
              "      <td>2</td>\n",
              "      <td>2</td>\n",
              "      <td>med</td>\n",
              "      <td>med</td>\n",
              "      <td>unacc</td>\n",
              "    </tr>\n",
              "  </tbody>\n",
              "</table>\n",
              "</div>\n",
              "      <button class=\"colab-df-convert\" onclick=\"convertToInteractive('df-216bce0d-5bca-4d02-a22e-36e2bb29ce2a')\"\n",
              "              title=\"Convert this dataframe to an interactive table.\"\n",
              "              style=\"display:none;\">\n",
              "        \n",
              "  <svg xmlns=\"http://www.w3.org/2000/svg\" height=\"24px\"viewBox=\"0 0 24 24\"\n",
              "       width=\"24px\">\n",
              "    <path d=\"M0 0h24v24H0V0z\" fill=\"none\"/>\n",
              "    <path d=\"M18.56 5.44l.94 2.06.94-2.06 2.06-.94-2.06-.94-.94-2.06-.94 2.06-2.06.94zm-11 1L8.5 8.5l.94-2.06 2.06-.94-2.06-.94L8.5 2.5l-.94 2.06-2.06.94zm10 10l.94 2.06.94-2.06 2.06-.94-2.06-.94-.94-2.06-.94 2.06-2.06.94z\"/><path d=\"M17.41 7.96l-1.37-1.37c-.4-.4-.92-.59-1.43-.59-.52 0-1.04.2-1.43.59L10.3 9.45l-7.72 7.72c-.78.78-.78 2.05 0 2.83L4 21.41c.39.39.9.59 1.41.59.51 0 1.02-.2 1.41-.59l7.78-7.78 2.81-2.81c.8-.78.8-2.07 0-2.86zM5.41 20L4 18.59l7.72-7.72 1.47 1.35L5.41 20z\"/>\n",
              "  </svg>\n",
              "      </button>\n",
              "      \n",
              "  <style>\n",
              "    .colab-df-container {\n",
              "      display:flex;\n",
              "      flex-wrap:wrap;\n",
              "      gap: 12px;\n",
              "    }\n",
              "\n",
              "    .colab-df-convert {\n",
              "      background-color: #E8F0FE;\n",
              "      border: none;\n",
              "      border-radius: 50%;\n",
              "      cursor: pointer;\n",
              "      display: none;\n",
              "      fill: #1967D2;\n",
              "      height: 32px;\n",
              "      padding: 0 0 0 0;\n",
              "      width: 32px;\n",
              "    }\n",
              "\n",
              "    .colab-df-convert:hover {\n",
              "      background-color: #E2EBFA;\n",
              "      box-shadow: 0px 1px 2px rgba(60, 64, 67, 0.3), 0px 1px 3px 1px rgba(60, 64, 67, 0.15);\n",
              "      fill: #174EA6;\n",
              "    }\n",
              "\n",
              "    [theme=dark] .colab-df-convert {\n",
              "      background-color: #3B4455;\n",
              "      fill: #D2E3FC;\n",
              "    }\n",
              "\n",
              "    [theme=dark] .colab-df-convert:hover {\n",
              "      background-color: #434B5C;\n",
              "      box-shadow: 0px 1px 3px 1px rgba(0, 0, 0, 0.15);\n",
              "      filter: drop-shadow(0px 1px 2px rgba(0, 0, 0, 0.3));\n",
              "      fill: #FFFFFF;\n",
              "    }\n",
              "  </style>\n",
              "\n",
              "      <script>\n",
              "        const buttonEl =\n",
              "          document.querySelector('#df-216bce0d-5bca-4d02-a22e-36e2bb29ce2a button.colab-df-convert');\n",
              "        buttonEl.style.display =\n",
              "          google.colab.kernel.accessAllowed ? 'block' : 'none';\n",
              "\n",
              "        async function convertToInteractive(key) {\n",
              "          const element = document.querySelector('#df-216bce0d-5bca-4d02-a22e-36e2bb29ce2a');\n",
              "          const dataTable =\n",
              "            await google.colab.kernel.invokeFunction('convertToInteractive',\n",
              "                                                     [key], {});\n",
              "          if (!dataTable) return;\n",
              "\n",
              "          const docLinkHtml = 'Like what you see? Visit the ' +\n",
              "            '<a target=\"_blank\" href=https://colab.research.google.com/notebooks/data_table.ipynb>data table notebook</a>'\n",
              "            + ' to learn more about interactive tables.';\n",
              "          element.innerHTML = '';\n",
              "          dataTable['output_type'] = 'display_data';\n",
              "          await google.colab.output.renderOutput(dataTable, element);\n",
              "          const docLink = document.createElement('div');\n",
              "          docLink.innerHTML = docLinkHtml;\n",
              "          element.appendChild(docLink);\n",
              "        }\n",
              "      </script>\n",
              "    </div>\n",
              "  </div>\n",
              "  "
            ],
            "text/plain": [
              "  buying maintance doors persons lug_boot safety  class\n",
              "0  vhigh     vhigh     2       2    small    low  unacc\n",
              "1  vhigh     vhigh     2       2    small    med  unacc\n",
              "2  vhigh     vhigh     2       2    small   high  unacc\n",
              "3  vhigh     vhigh     2       2      med    low  unacc\n",
              "4  vhigh     vhigh     2       2      med    med  unacc"
            ]
          },
          "metadata": {},
          "execution_count": 4
        }
      ]
    },
    {
      "cell_type": "code",
      "source": [
        "#cols = ['buying','maintance','doors','persons','lug_boot','safety','class']\n",
        "#df.columns = cols\n",
        "#df.head(5)"
      ],
      "metadata": {
        "id": "FvNYe6IdrnRT"
      },
      "execution_count": null,
      "outputs": []
    },
    {
      "cell_type": "code",
      "source": [
        "df.info()\n",
        "# Không có missing value"
      ],
      "metadata": {
        "colab": {
          "base_uri": "https://localhost:8080/"
        },
        "id": "9w1Z_sx2sYcG",
        "outputId": "4a537072-2864-4e02-eaa3-15e27bf20edf"
      },
      "execution_count": null,
      "outputs": [
        {
          "output_type": "stream",
          "name": "stdout",
          "text": [
            "<class 'pandas.core.frame.DataFrame'>\n",
            "RangeIndex: 1728 entries, 0 to 1727\n",
            "Data columns (total 7 columns):\n",
            " #   Column     Non-Null Count  Dtype \n",
            "---  ------     --------------  ----- \n",
            " 0   buying     1728 non-null   object\n",
            " 1   maintance  1728 non-null   object\n",
            " 2   doors      1728 non-null   object\n",
            " 3   persons    1728 non-null   object\n",
            " 4   lug_boot   1728 non-null   object\n",
            " 5   safety     1728 non-null   object\n",
            " 6   class      1728 non-null   object\n",
            "dtypes: object(7)\n",
            "memory usage: 94.6+ KB\n"
          ]
        }
      ]
    },
    {
      "cell_type": "code",
      "source": [
        "def show(df):\n",
        "  for i in df.columns:\n",
        "    print(\"Feature: {} with {} Levels\".format(i,df[i].unique()))\n",
        "show(df)"
      ],
      "metadata": {
        "colab": {
          "base_uri": "https://localhost:8080/"
        },
        "id": "TaXQX5ctsdRo",
        "outputId": "72940cb6-3c8f-466d-e1e9-9c594bb4ba70"
      },
      "execution_count": null,
      "outputs": [
        {
          "output_type": "stream",
          "name": "stdout",
          "text": [
            "Feature: buying with ['vhigh' 'high' 'med' 'low'] Levels\n",
            "Feature: maintance with ['vhigh' 'high' 'med' 'low'] Levels\n",
            "Feature: doors with ['2' '3' '4' '5more'] Levels\n",
            "Feature: persons with ['2' '4' 'more'] Levels\n",
            "Feature: lug_boot with ['small' 'med' 'big'] Levels\n",
            "Feature: safety with ['low' 'med' 'high'] Levels\n",
            "Feature: class with ['unacc' 'acc' 'vgood' 'good'] Levels\n"
          ]
        }
      ]
    },
    {
      "cell_type": "code",
      "source": [
        "df.dtypes"
      ],
      "metadata": {
        "colab": {
          "base_uri": "https://localhost:8080/"
        },
        "id": "uNjzi7SVBfan",
        "outputId": "cd6928ea-d93c-40c4-915b-f52884a9e83d"
      },
      "execution_count": null,
      "outputs": [
        {
          "output_type": "execute_result",
          "data": {
            "text/plain": [
              "buying       object\n",
              "maintance    object\n",
              "doors        object\n",
              "persons      object\n",
              "lug_boot     object\n",
              "safety       object\n",
              "class        object\n",
              "dtype: object"
            ]
          },
          "metadata": {},
          "execution_count": 8
        }
      ]
    },
    {
      "cell_type": "code",
      "source": [
        "categories = [df[i].unique() for i in df.columns]\n",
        "categories[0] = categories[0][::-1]\n",
        "categories[1] = categories[1][::-1]\n",
        "categories[-1][2:] = categories[-1][2:][::-1]"
      ],
      "metadata": {
        "id": "EfdPjtnBGL_J"
      },
      "execution_count": null,
      "outputs": []
    },
    {
      "cell_type": "code",
      "source": [
        "categories"
      ],
      "metadata": {
        "colab": {
          "base_uri": "https://localhost:8080/"
        },
        "id": "3u0Ja8OrOeD9",
        "outputId": "95721909-3f30-4b0a-9bf7-30095acd6821"
      },
      "execution_count": null,
      "outputs": [
        {
          "output_type": "execute_result",
          "data": {
            "text/plain": [
              "[array(['low', 'med', 'high', 'vhigh'], dtype=object),\n",
              " array(['low', 'med', 'high', 'vhigh'], dtype=object),\n",
              " array(['2', '3', '4', '5more'], dtype=object),\n",
              " array(['2', '4', 'more'], dtype=object),\n",
              " array(['small', 'med', 'big'], dtype=object),\n",
              " array(['low', 'med', 'high'], dtype=object),\n",
              " array(['unacc', 'acc', 'good', 'vgood'], dtype=object)]"
            ]
          },
          "metadata": {},
          "execution_count": 10
        }
      ]
    },
    {
      "cell_type": "code",
      "source": [
        "from sklearn.preprocessing import OrdinalEncoder\n",
        "oe = OrdinalEncoder(categories= categories)\n",
        "df[df.columns] = oe.fit_transform(df[df.columns])"
      ],
      "metadata": {
        "id": "u2yya1zJBj6v"
      },
      "execution_count": null,
      "outputs": []
    },
    {
      "cell_type": "code",
      "source": [
        "df.head(5)"
      ],
      "metadata": {
        "colab": {
          "base_uri": "https://localhost:8080/",
          "height": 206
        },
        "id": "ZiFUX7VeOVUm",
        "outputId": "d91311f6-bea0-424e-c888-9cf8321b0b58"
      },
      "execution_count": null,
      "outputs": [
        {
          "output_type": "execute_result",
          "data": {
            "text/html": [
              "\n",
              "  <div id=\"df-236cbc88-1962-407e-8850-1cfe4488d138\">\n",
              "    <div class=\"colab-df-container\">\n",
              "      <div>\n",
              "<style scoped>\n",
              "    .dataframe tbody tr th:only-of-type {\n",
              "        vertical-align: middle;\n",
              "    }\n",
              "\n",
              "    .dataframe tbody tr th {\n",
              "        vertical-align: top;\n",
              "    }\n",
              "\n",
              "    .dataframe thead th {\n",
              "        text-align: right;\n",
              "    }\n",
              "</style>\n",
              "<table border=\"1\" class=\"dataframe\">\n",
              "  <thead>\n",
              "    <tr style=\"text-align: right;\">\n",
              "      <th></th>\n",
              "      <th>buying</th>\n",
              "      <th>maintance</th>\n",
              "      <th>doors</th>\n",
              "      <th>persons</th>\n",
              "      <th>lug_boot</th>\n",
              "      <th>safety</th>\n",
              "      <th>class</th>\n",
              "    </tr>\n",
              "  </thead>\n",
              "  <tbody>\n",
              "    <tr>\n",
              "      <th>0</th>\n",
              "      <td>3.0</td>\n",
              "      <td>3.0</td>\n",
              "      <td>0.0</td>\n",
              "      <td>0.0</td>\n",
              "      <td>0.0</td>\n",
              "      <td>0.0</td>\n",
              "      <td>0.0</td>\n",
              "    </tr>\n",
              "    <tr>\n",
              "      <th>1</th>\n",
              "      <td>3.0</td>\n",
              "      <td>3.0</td>\n",
              "      <td>0.0</td>\n",
              "      <td>0.0</td>\n",
              "      <td>0.0</td>\n",
              "      <td>1.0</td>\n",
              "      <td>0.0</td>\n",
              "    </tr>\n",
              "    <tr>\n",
              "      <th>2</th>\n",
              "      <td>3.0</td>\n",
              "      <td>3.0</td>\n",
              "      <td>0.0</td>\n",
              "      <td>0.0</td>\n",
              "      <td>0.0</td>\n",
              "      <td>2.0</td>\n",
              "      <td>0.0</td>\n",
              "    </tr>\n",
              "    <tr>\n",
              "      <th>3</th>\n",
              "      <td>3.0</td>\n",
              "      <td>3.0</td>\n",
              "      <td>0.0</td>\n",
              "      <td>0.0</td>\n",
              "      <td>1.0</td>\n",
              "      <td>0.0</td>\n",
              "      <td>0.0</td>\n",
              "    </tr>\n",
              "    <tr>\n",
              "      <th>4</th>\n",
              "      <td>3.0</td>\n",
              "      <td>3.0</td>\n",
              "      <td>0.0</td>\n",
              "      <td>0.0</td>\n",
              "      <td>1.0</td>\n",
              "      <td>1.0</td>\n",
              "      <td>0.0</td>\n",
              "    </tr>\n",
              "  </tbody>\n",
              "</table>\n",
              "</div>\n",
              "      <button class=\"colab-df-convert\" onclick=\"convertToInteractive('df-236cbc88-1962-407e-8850-1cfe4488d138')\"\n",
              "              title=\"Convert this dataframe to an interactive table.\"\n",
              "              style=\"display:none;\">\n",
              "        \n",
              "  <svg xmlns=\"http://www.w3.org/2000/svg\" height=\"24px\"viewBox=\"0 0 24 24\"\n",
              "       width=\"24px\">\n",
              "    <path d=\"M0 0h24v24H0V0z\" fill=\"none\"/>\n",
              "    <path d=\"M18.56 5.44l.94 2.06.94-2.06 2.06-.94-2.06-.94-.94-2.06-.94 2.06-2.06.94zm-11 1L8.5 8.5l.94-2.06 2.06-.94-2.06-.94L8.5 2.5l-.94 2.06-2.06.94zm10 10l.94 2.06.94-2.06 2.06-.94-2.06-.94-.94-2.06-.94 2.06-2.06.94z\"/><path d=\"M17.41 7.96l-1.37-1.37c-.4-.4-.92-.59-1.43-.59-.52 0-1.04.2-1.43.59L10.3 9.45l-7.72 7.72c-.78.78-.78 2.05 0 2.83L4 21.41c.39.39.9.59 1.41.59.51 0 1.02-.2 1.41-.59l7.78-7.78 2.81-2.81c.8-.78.8-2.07 0-2.86zM5.41 20L4 18.59l7.72-7.72 1.47 1.35L5.41 20z\"/>\n",
              "  </svg>\n",
              "      </button>\n",
              "      \n",
              "  <style>\n",
              "    .colab-df-container {\n",
              "      display:flex;\n",
              "      flex-wrap:wrap;\n",
              "      gap: 12px;\n",
              "    }\n",
              "\n",
              "    .colab-df-convert {\n",
              "      background-color: #E8F0FE;\n",
              "      border: none;\n",
              "      border-radius: 50%;\n",
              "      cursor: pointer;\n",
              "      display: none;\n",
              "      fill: #1967D2;\n",
              "      height: 32px;\n",
              "      padding: 0 0 0 0;\n",
              "      width: 32px;\n",
              "    }\n",
              "\n",
              "    .colab-df-convert:hover {\n",
              "      background-color: #E2EBFA;\n",
              "      box-shadow: 0px 1px 2px rgba(60, 64, 67, 0.3), 0px 1px 3px 1px rgba(60, 64, 67, 0.15);\n",
              "      fill: #174EA6;\n",
              "    }\n",
              "\n",
              "    [theme=dark] .colab-df-convert {\n",
              "      background-color: #3B4455;\n",
              "      fill: #D2E3FC;\n",
              "    }\n",
              "\n",
              "    [theme=dark] .colab-df-convert:hover {\n",
              "      background-color: #434B5C;\n",
              "      box-shadow: 0px 1px 3px 1px rgba(0, 0, 0, 0.15);\n",
              "      filter: drop-shadow(0px 1px 2px rgba(0, 0, 0, 0.3));\n",
              "      fill: #FFFFFF;\n",
              "    }\n",
              "  </style>\n",
              "\n",
              "      <script>\n",
              "        const buttonEl =\n",
              "          document.querySelector('#df-236cbc88-1962-407e-8850-1cfe4488d138 button.colab-df-convert');\n",
              "        buttonEl.style.display =\n",
              "          google.colab.kernel.accessAllowed ? 'block' : 'none';\n",
              "\n",
              "        async function convertToInteractive(key) {\n",
              "          const element = document.querySelector('#df-236cbc88-1962-407e-8850-1cfe4488d138');\n",
              "          const dataTable =\n",
              "            await google.colab.kernel.invokeFunction('convertToInteractive',\n",
              "                                                     [key], {});\n",
              "          if (!dataTable) return;\n",
              "\n",
              "          const docLinkHtml = 'Like what you see? Visit the ' +\n",
              "            '<a target=\"_blank\" href=https://colab.research.google.com/notebooks/data_table.ipynb>data table notebook</a>'\n",
              "            + ' to learn more about interactive tables.';\n",
              "          element.innerHTML = '';\n",
              "          dataTable['output_type'] = 'display_data';\n",
              "          await google.colab.output.renderOutput(dataTable, element);\n",
              "          const docLink = document.createElement('div');\n",
              "          docLink.innerHTML = docLinkHtml;\n",
              "          element.appendChild(docLink);\n",
              "        }\n",
              "      </script>\n",
              "    </div>\n",
              "  </div>\n",
              "  "
            ],
            "text/plain": [
              "   buying  maintance  doors  persons  lug_boot  safety  class\n",
              "0     3.0        3.0    0.0      0.0       0.0     0.0    0.0\n",
              "1     3.0        3.0    0.0      0.0       0.0     1.0    0.0\n",
              "2     3.0        3.0    0.0      0.0       0.0     2.0    0.0\n",
              "3     3.0        3.0    0.0      0.0       1.0     0.0    0.0\n",
              "4     3.0        3.0    0.0      0.0       1.0     1.0    0.0"
            ]
          },
          "metadata": {},
          "execution_count": 12
        }
      ]
    },
    {
      "cell_type": "code",
      "source": [
        "x = df.drop(['class'], axis = 1)\n",
        "y = df['class']\n",
        "\n",
        "x_train, x_test, y_train, y_test = train_test_split(x, y, test_size = 0.3, random_state = 42)\n",
        "print(\"X_train: {}\".format(x_train.shape))\n",
        "print(\"X_test: {}\".format(x_test.shape))\n",
        "print(\"Y_train: {}\".format(y_train.shape))\n",
        "print(\"Y_test: {}\".format(y_test.shape))"
      ],
      "metadata": {
        "colab": {
          "base_uri": "https://localhost:8080/"
        },
        "id": "nrFiPpmaPR_6",
        "outputId": "37a4f011-8159-4263-ad95-0551df557089"
      },
      "execution_count": null,
      "outputs": [
        {
          "output_type": "stream",
          "name": "stdout",
          "text": [
            "X_train: (1209, 6)\n",
            "X_test: (519, 6)\n",
            "Y_train: (1209,)\n",
            "Y_test: (519,)\n"
          ]
        }
      ]
    },
    {
      "cell_type": "code",
      "source": [
        "def evaluation_parametrics(y_train,yp_train,y_test,yp_test):\n",
        "  print(\"--------------------------------------------------------------------------\")\n",
        "  print(\"Classification Report for Train Data\")\n",
        "  print(classification_report(y_train, yp_train))\n",
        "  print(\"Classification Report for Test Data\")\n",
        "  print(classification_report(y_test, yp_test))\n",
        "  print(\"--------------------------------------------------------------------------\")\n",
        "  # Accuracy\n",
        "  print(\"Accuracy on Train Data is: {}\".format(round(accuracy_score(y_train,yp_train),2)))\n",
        "  print(\"Accuracy on Test Data is: {}\".format(round(accuracy_score(y_test,yp_test),2)))\n",
        "  print(\"--------------------------------------------------------------------------\")\n",
        "  # Precision\n",
        "  print(\"Precision on Train Data is: {}\".format(round(precision_score(y_train,yp_train,average = \"weighted\"),2)))\n",
        "  print(\"Precision on Test Data is: {}\".format(round(precision_score(y_test,yp_test,average = \"weighted\"),2)))\n",
        "  print(\"--------------------------------------------------------------------------\")\n",
        "  # Recall \n",
        "  print(\"Recall on Train Data is: {}\".format(round(recall_score(y_train,yp_train,average = \"weighted\"),2)))\n",
        "  print(\"Recall on Test Data is: {}\".format(round(recall_score(y_test,yp_test,average = \"weighted\"),2)))\n",
        "  print(\"--------------------------------------------------------------------------\")\n",
        "  # F1 Score\n",
        "  print(\"F1 Score on Train Data is: {}\".format(round(f1_score(y_train,yp_train,average = \"weighted\"),2)))\n",
        "  print(\"F1 Score on Test Data is: {}\".format(round(f1_score(y_test,yp_test,average = \"weighted\"),2)))\n",
        "  print(\"--------------------------------------------------------------------------\")"
      ],
      "metadata": {
        "id": "TO4KGfYeQYZ-"
      },
      "execution_count": null,
      "outputs": []
    },
    {
      "cell_type": "code",
      "source": [
        "lr = LogisticRegression(max_iter = 1000,random_state = 48)\n",
        "lr.fit(x_train,y_train)\n",
        "\n",
        "yp_train = lr.predict(x_train)\n",
        "yp_test = lr.predict(x_test)\n",
        "\n",
        "evaluation_parametrics(y_train,yp_train,y_test,yp_test)"
      ],
      "metadata": {
        "colab": {
          "base_uri": "https://localhost:8080/"
        },
        "id": "TkJ7NgjaQZsy",
        "outputId": "2a66e709-8b46-4ea5-a90e-59818a0ff1fb"
      },
      "execution_count": null,
      "outputs": [
        {
          "output_type": "stream",
          "name": "stdout",
          "text": [
            "--------------------------------------------------------------------------\n",
            "Classification Report for Train Data\n",
            "              precision    recall  f1-score   support\n",
            "\n",
            "         0.0       0.88      0.93      0.90       852\n",
            "         1.0       0.66      0.58      0.62       266\n",
            "         2.0       0.53      0.38      0.44        50\n",
            "         3.0       0.79      0.63      0.70        41\n",
            "\n",
            "    accuracy                           0.82      1209\n",
            "   macro avg       0.71      0.63      0.67      1209\n",
            "weighted avg       0.81      0.82      0.82      1209\n",
            "\n",
            "Classification Report for Test Data\n",
            "              precision    recall  f1-score   support\n",
            "\n",
            "         0.0       0.87      0.93      0.90       358\n",
            "         1.0       0.66      0.58      0.62       118\n",
            "         2.0       0.55      0.32      0.40        19\n",
            "         3.0       0.75      0.75      0.75        24\n",
            "\n",
            "    accuracy                           0.82       519\n",
            "   macro avg       0.71      0.64      0.67       519\n",
            "weighted avg       0.81      0.82      0.81       519\n",
            "\n",
            "--------------------------------------------------------------------------\n",
            "Accuracy on Train Data is: 0.82\n",
            "Accuracy on Test Data is: 0.82\n",
            "--------------------------------------------------------------------------\n",
            "Precision on Train Data is: 0.81\n",
            "Precision on Test Data is: 0.81\n",
            "--------------------------------------------------------------------------\n",
            "Recall on Train Data is: 0.82\n",
            "Recall on Test Data is: 0.82\n",
            "--------------------------------------------------------------------------\n",
            "F1 Score on Train Data is: 0.82\n",
            "F1 Score on Test Data is: 0.81\n",
            "--------------------------------------------------------------------------\n"
          ]
        }
      ]
    },
    {
      "cell_type": "code",
      "source": [
        "dt = DecisionTreeClassifier(max_depth = 7,random_state = 48) # Keeping max_depth = 7 to avoid overfitting\n",
        "dt.fit(x_train,y_train)\n",
        "\n",
        "yp_train = dt.predict(x_train)\n",
        "yp_test = dt.predict(x_test)\n",
        "\n",
        "evaluation_parametrics(y_train,yp_train,y_test,yp_test)"
      ],
      "metadata": {
        "colab": {
          "base_uri": "https://localhost:8080/"
        },
        "id": "4JdIMiMsQk73",
        "outputId": "86639973-4987-4aee-8786-d316288469df"
      },
      "execution_count": null,
      "outputs": [
        {
          "output_type": "stream",
          "name": "stdout",
          "text": [
            "--------------------------------------------------------------------------\n",
            "Classification Report for Train Data\n",
            "              precision    recall  f1-score   support\n",
            "\n",
            "         0.0       0.98      0.97      0.98       852\n",
            "         1.0       0.86      0.94      0.90       266\n",
            "         2.0       0.81      0.76      0.78        50\n",
            "         3.0       0.93      0.68      0.79        41\n",
            "\n",
            "    accuracy                           0.95      1209\n",
            "   macro avg       0.90      0.84      0.86      1209\n",
            "weighted avg       0.95      0.95      0.95      1209\n",
            "\n",
            "Classification Report for Test Data\n",
            "              precision    recall  f1-score   support\n",
            "\n",
            "         0.0       0.97      0.98      0.97       358\n",
            "         1.0       0.86      0.81      0.83       118\n",
            "         2.0       0.52      0.58      0.55        19\n",
            "         3.0       0.77      0.83      0.80        24\n",
            "\n",
            "    accuracy                           0.92       519\n",
            "   macro avg       0.78      0.80      0.79       519\n",
            "weighted avg       0.92      0.92      0.92       519\n",
            "\n",
            "--------------------------------------------------------------------------\n",
            "Accuracy on Train Data is: 0.95\n",
            "Accuracy on Test Data is: 0.92\n",
            "--------------------------------------------------------------------------\n",
            "Precision on Train Data is: 0.95\n",
            "Precision on Test Data is: 0.92\n",
            "--------------------------------------------------------------------------\n",
            "Recall on Train Data is: 0.95\n",
            "Recall on Test Data is: 0.92\n",
            "--------------------------------------------------------------------------\n",
            "F1 Score on Train Data is: 0.95\n",
            "F1 Score on Test Data is: 0.92\n",
            "--------------------------------------------------------------------------\n"
          ]
        }
      ]
    },
    {
      "cell_type": "code",
      "source": [
        "rf = RandomForestClassifier(max_depth = 7,random_state = 48) # Keeping max_depth = 7 same as DT\n",
        "rf.fit(x_train,y_train)\n",
        "\n",
        "yp_train = rf.predict(x_train)\n",
        "yp_test = rf.predict(x_test)\n",
        "\n",
        "evaluation_parametrics(y_train,yp_train,y_test,yp_test)"
      ],
      "metadata": {
        "colab": {
          "base_uri": "https://localhost:8080/"
        },
        "id": "wbTpOdQmQvTr",
        "outputId": "d1b36586-62ea-42c1-dbb4-1732f0741af4"
      },
      "execution_count": null,
      "outputs": [
        {
          "output_type": "stream",
          "name": "stdout",
          "text": [
            "--------------------------------------------------------------------------\n",
            "Classification Report for Train Data\n",
            "              precision    recall  f1-score   support\n",
            "\n",
            "         0.0       1.00      0.98      0.99       852\n",
            "         1.0       0.89      0.99      0.94       266\n",
            "         2.0       0.95      0.78      0.86        50\n",
            "         3.0       0.97      0.76      0.85        41\n",
            "\n",
            "    accuracy                           0.97      1209\n",
            "   macro avg       0.95      0.88      0.91      1209\n",
            "weighted avg       0.97      0.97      0.97      1209\n",
            "\n",
            "Classification Report for Test Data\n",
            "              precision    recall  f1-score   support\n",
            "\n",
            "         0.0       0.98      0.98      0.98       358\n",
            "         1.0       0.88      0.89      0.89       118\n",
            "         2.0       0.71      0.63      0.67        19\n",
            "         3.0       0.88      0.88      0.88        24\n",
            "\n",
            "    accuracy                           0.94       519\n",
            "   macro avg       0.86      0.84      0.85       519\n",
            "weighted avg       0.94      0.94      0.94       519\n",
            "\n",
            "--------------------------------------------------------------------------\n",
            "Accuracy on Train Data is: 0.97\n",
            "Accuracy on Test Data is: 0.94\n",
            "--------------------------------------------------------------------------\n",
            "Precision on Train Data is: 0.97\n",
            "Precision on Test Data is: 0.94\n",
            "--------------------------------------------------------------------------\n",
            "Recall on Train Data is: 0.97\n",
            "Recall on Test Data is: 0.94\n",
            "--------------------------------------------------------------------------\n",
            "F1 Score on Train Data is: 0.97\n",
            "F1 Score on Test Data is: 0.94\n",
            "--------------------------------------------------------------------------\n"
          ]
        }
      ]
    }
  ]
}